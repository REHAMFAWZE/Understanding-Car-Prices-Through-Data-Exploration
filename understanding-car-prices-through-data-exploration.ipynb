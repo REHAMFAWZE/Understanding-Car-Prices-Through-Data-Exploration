{
 "cells": [
  {
   "cell_type": "markdown",
   "id": "876a51ec",
   "metadata": {
    "papermill": {
     "duration": 0.006561,
     "end_time": "2025-02-09T00:33:05.403532",
     "exception": false,
     "start_time": "2025-02-09T00:33:05.396971",
     "status": "completed"
    },
    "tags": []
   },
   "source": [
    "<h1 align=\"center\" style=\"background-color: lightgreen; color: black; padding: 10px; border: 2px solid black; text-shadow: 2px 2px 4px rgba(0,0,0,0.3), 0 0 25px rgba(0, 255, 0, 0.7);\">\n",
    "  Zomato Restaurant Trends Analysis\n",
    "</h1>\n"
   ]
  },
  {
   "cell_type": "code",
   "execution_count": 1,
   "id": "969849c2",
   "metadata": {
    "execution": {
     "iopub.execute_input": "2025-02-09T00:33:05.415524Z",
     "iopub.status.busy": "2025-02-09T00:33:05.415088Z",
     "iopub.status.idle": "2025-02-09T00:33:07.879945Z",
     "shell.execute_reply": "2025-02-09T00:33:07.879095Z"
    },
    "papermill": {
     "duration": 2.472998,
     "end_time": "2025-02-09T00:33:07.881862",
     "exception": false,
     "start_time": "2025-02-09T00:33:05.408864",
     "status": "completed"
    },
    "tags": []
   },
   "outputs": [],
   "source": [
    "import numpy as np\n",
    "import pandas as pd\n",
    "import matplotlib.pyplot as plt\n",
    "import seaborn as sns"
   ]
  },
  {
   "cell_type": "markdown",
   "id": "3d5dbea9",
   "metadata": {
    "papermill": {
     "duration": 0.00505,
     "end_time": "2025-02-09T00:33:07.892244",
     "exception": false,
     "start_time": "2025-02-09T00:33:07.887194",
     "status": "completed"
    },
    "tags": []
   },
   "source": [
    "<h3 style=\"background-color: pink; border: 2px solid black; color: black; display: inline-block; padding: 10px; text-align: left; margin: 0;\">\n",
    "  Load And Read Data\n",
    "</h3>\n"
   ]
  },
  {
   "cell_type": "code",
   "execution_count": 2,
   "id": "d5f29357",
   "metadata": {
    "execution": {
     "iopub.execute_input": "2025-02-09T00:33:07.903577Z",
     "iopub.status.busy": "2025-02-09T00:33:07.903040Z",
     "iopub.status.idle": "2025-02-09T00:33:07.938644Z",
     "shell.execute_reply": "2025-02-09T00:33:07.937702Z"
    },
    "papermill": {
     "duration": 0.043121,
     "end_time": "2025-02-09T00:33:07.940380",
     "exception": false,
     "start_time": "2025-02-09T00:33:07.897259",
     "status": "completed"
    },
    "tags": []
   },
   "outputs": [],
   "source": [
    "data=pd.read_csv('/kaggle/input/car-price-dataset/car_price_dataset.csv')"
   ]
  },
  {
   "cell_type": "code",
   "execution_count": 3,
   "id": "ac3cca90",
   "metadata": {
    "execution": {
     "iopub.execute_input": "2025-02-09T00:33:07.952080Z",
     "iopub.status.busy": "2025-02-09T00:33:07.951708Z",
     "iopub.status.idle": "2025-02-09T00:33:07.986907Z",
     "shell.execute_reply": "2025-02-09T00:33:07.985826Z"
    },
    "papermill": {
     "duration": 0.042844,
     "end_time": "2025-02-09T00:33:07.988626",
     "exception": false,
     "start_time": "2025-02-09T00:33:07.945782",
     "status": "completed"
    },
    "tags": []
   },
   "outputs": [
    {
     "data": {
      "text/html": [
       "<div>\n",
       "<style scoped>\n",
       "    .dataframe tbody tr th:only-of-type {\n",
       "        vertical-align: middle;\n",
       "    }\n",
       "\n",
       "    .dataframe tbody tr th {\n",
       "        vertical-align: top;\n",
       "    }\n",
       "\n",
       "    .dataframe thead th {\n",
       "        text-align: right;\n",
       "    }\n",
       "</style>\n",
       "<table border=\"1\" class=\"dataframe\">\n",
       "  <thead>\n",
       "    <tr style=\"text-align: right;\">\n",
       "      <th></th>\n",
       "      <th>Brand</th>\n",
       "      <th>Model</th>\n",
       "      <th>Year</th>\n",
       "      <th>Engine_Size</th>\n",
       "      <th>Fuel_Type</th>\n",
       "      <th>Transmission</th>\n",
       "      <th>Mileage</th>\n",
       "      <th>Doors</th>\n",
       "      <th>Owner_Count</th>\n",
       "      <th>Price</th>\n",
       "    </tr>\n",
       "  </thead>\n",
       "  <tbody>\n",
       "    <tr>\n",
       "      <th>0</th>\n",
       "      <td>Kia</td>\n",
       "      <td>Rio</td>\n",
       "      <td>2020</td>\n",
       "      <td>4.2</td>\n",
       "      <td>Diesel</td>\n",
       "      <td>Manual</td>\n",
       "      <td>289944</td>\n",
       "      <td>3</td>\n",
       "      <td>5</td>\n",
       "      <td>8501</td>\n",
       "    </tr>\n",
       "    <tr>\n",
       "      <th>1</th>\n",
       "      <td>Chevrolet</td>\n",
       "      <td>Malibu</td>\n",
       "      <td>2012</td>\n",
       "      <td>2.0</td>\n",
       "      <td>Hybrid</td>\n",
       "      <td>Automatic</td>\n",
       "      <td>5356</td>\n",
       "      <td>2</td>\n",
       "      <td>3</td>\n",
       "      <td>12092</td>\n",
       "    </tr>\n",
       "    <tr>\n",
       "      <th>2</th>\n",
       "      <td>Mercedes</td>\n",
       "      <td>GLA</td>\n",
       "      <td>2020</td>\n",
       "      <td>4.2</td>\n",
       "      <td>Diesel</td>\n",
       "      <td>Automatic</td>\n",
       "      <td>231440</td>\n",
       "      <td>4</td>\n",
       "      <td>2</td>\n",
       "      <td>11171</td>\n",
       "    </tr>\n",
       "    <tr>\n",
       "      <th>3</th>\n",
       "      <td>Audi</td>\n",
       "      <td>Q5</td>\n",
       "      <td>2023</td>\n",
       "      <td>2.0</td>\n",
       "      <td>Electric</td>\n",
       "      <td>Manual</td>\n",
       "      <td>160971</td>\n",
       "      <td>2</td>\n",
       "      <td>1</td>\n",
       "      <td>11780</td>\n",
       "    </tr>\n",
       "    <tr>\n",
       "      <th>4</th>\n",
       "      <td>Volkswagen</td>\n",
       "      <td>Golf</td>\n",
       "      <td>2003</td>\n",
       "      <td>2.6</td>\n",
       "      <td>Hybrid</td>\n",
       "      <td>Semi-Automatic</td>\n",
       "      <td>286618</td>\n",
       "      <td>3</td>\n",
       "      <td>3</td>\n",
       "      <td>2867</td>\n",
       "    </tr>\n",
       "    <tr>\n",
       "      <th>...</th>\n",
       "      <td>...</td>\n",
       "      <td>...</td>\n",
       "      <td>...</td>\n",
       "      <td>...</td>\n",
       "      <td>...</td>\n",
       "      <td>...</td>\n",
       "      <td>...</td>\n",
       "      <td>...</td>\n",
       "      <td>...</td>\n",
       "      <td>...</td>\n",
       "    </tr>\n",
       "    <tr>\n",
       "      <th>9995</th>\n",
       "      <td>Kia</td>\n",
       "      <td>Optima</td>\n",
       "      <td>2004</td>\n",
       "      <td>3.7</td>\n",
       "      <td>Diesel</td>\n",
       "      <td>Semi-Automatic</td>\n",
       "      <td>5794</td>\n",
       "      <td>2</td>\n",
       "      <td>4</td>\n",
       "      <td>8884</td>\n",
       "    </tr>\n",
       "    <tr>\n",
       "      <th>9996</th>\n",
       "      <td>Chevrolet</td>\n",
       "      <td>Impala</td>\n",
       "      <td>2002</td>\n",
       "      <td>1.4</td>\n",
       "      <td>Electric</td>\n",
       "      <td>Automatic</td>\n",
       "      <td>168000</td>\n",
       "      <td>2</td>\n",
       "      <td>1</td>\n",
       "      <td>6240</td>\n",
       "    </tr>\n",
       "    <tr>\n",
       "      <th>9997</th>\n",
       "      <td>BMW</td>\n",
       "      <td>3 Series</td>\n",
       "      <td>2010</td>\n",
       "      <td>3.0</td>\n",
       "      <td>Petrol</td>\n",
       "      <td>Automatic</td>\n",
       "      <td>86664</td>\n",
       "      <td>5</td>\n",
       "      <td>1</td>\n",
       "      <td>9866</td>\n",
       "    </tr>\n",
       "    <tr>\n",
       "      <th>9998</th>\n",
       "      <td>Ford</td>\n",
       "      <td>Explorer</td>\n",
       "      <td>2002</td>\n",
       "      <td>1.4</td>\n",
       "      <td>Hybrid</td>\n",
       "      <td>Automatic</td>\n",
       "      <td>225772</td>\n",
       "      <td>4</td>\n",
       "      <td>1</td>\n",
       "      <td>4084</td>\n",
       "    </tr>\n",
       "    <tr>\n",
       "      <th>9999</th>\n",
       "      <td>Volkswagen</td>\n",
       "      <td>Tiguan</td>\n",
       "      <td>2001</td>\n",
       "      <td>2.1</td>\n",
       "      <td>Diesel</td>\n",
       "      <td>Manual</td>\n",
       "      <td>157882</td>\n",
       "      <td>3</td>\n",
       "      <td>3</td>\n",
       "      <td>3342</td>\n",
       "    </tr>\n",
       "  </tbody>\n",
       "</table>\n",
       "<p>10000 rows × 10 columns</p>\n",
       "</div>"
      ],
      "text/plain": [
       "           Brand     Model  Year  Engine_Size Fuel_Type    Transmission  \\\n",
       "0            Kia       Rio  2020          4.2    Diesel          Manual   \n",
       "1      Chevrolet    Malibu  2012          2.0    Hybrid       Automatic   \n",
       "2       Mercedes       GLA  2020          4.2    Diesel       Automatic   \n",
       "3           Audi        Q5  2023          2.0  Electric          Manual   \n",
       "4     Volkswagen      Golf  2003          2.6    Hybrid  Semi-Automatic   \n",
       "...          ...       ...   ...          ...       ...             ...   \n",
       "9995         Kia    Optima  2004          3.7    Diesel  Semi-Automatic   \n",
       "9996   Chevrolet    Impala  2002          1.4  Electric       Automatic   \n",
       "9997         BMW  3 Series  2010          3.0    Petrol       Automatic   \n",
       "9998        Ford  Explorer  2002          1.4    Hybrid       Automatic   \n",
       "9999  Volkswagen    Tiguan  2001          2.1    Diesel          Manual   \n",
       "\n",
       "      Mileage  Doors  Owner_Count  Price  \n",
       "0      289944      3            5   8501  \n",
       "1        5356      2            3  12092  \n",
       "2      231440      4            2  11171  \n",
       "3      160971      2            1  11780  \n",
       "4      286618      3            3   2867  \n",
       "...       ...    ...          ...    ...  \n",
       "9995     5794      2            4   8884  \n",
       "9996   168000      2            1   6240  \n",
       "9997    86664      5            1   9866  \n",
       "9998   225772      4            1   4084  \n",
       "9999   157882      3            3   3342  \n",
       "\n",
       "[10000 rows x 10 columns]"
      ]
     },
     "execution_count": 3,
     "metadata": {},
     "output_type": "execute_result"
    }
   ],
   "source": [
    "data"
   ]
  },
  {
   "cell_type": "markdown",
   "id": "a929985d",
   "metadata": {
    "papermill": {
     "duration": 0.005308,
     "end_time": "2025-02-09T00:33:07.999615",
     "exception": false,
     "start_time": "2025-02-09T00:33:07.994307",
     "status": "completed"
    },
    "tags": []
   },
   "source": [
    "<h3 style=\"background-color: pink; border: 2px solid black; color: black; display: inline-block; padding: 10px; text-align: left; margin: 0;\">\n",
    "  View Data\n",
    "</h3>\n"
   ]
  },
  {
   "cell_type": "code",
   "execution_count": 4,
   "id": "4b93adc7",
   "metadata": {
    "execution": {
     "iopub.execute_input": "2025-02-09T00:33:08.011657Z",
     "iopub.status.busy": "2025-02-09T00:33:08.011278Z",
     "iopub.status.idle": "2025-02-09T00:33:08.043170Z",
     "shell.execute_reply": "2025-02-09T00:33:08.042225Z"
    },
    "papermill": {
     "duration": 0.039678,
     "end_time": "2025-02-09T00:33:08.044705",
     "exception": false,
     "start_time": "2025-02-09T00:33:08.005027",
     "status": "completed"
    },
    "tags": []
   },
   "outputs": [
    {
     "data": {
      "text/html": [
       "<div>\n",
       "<style scoped>\n",
       "    .dataframe tbody tr th:only-of-type {\n",
       "        vertical-align: middle;\n",
       "    }\n",
       "\n",
       "    .dataframe tbody tr th {\n",
       "        vertical-align: top;\n",
       "    }\n",
       "\n",
       "    .dataframe thead th {\n",
       "        text-align: right;\n",
       "    }\n",
       "</style>\n",
       "<table border=\"1\" class=\"dataframe\">\n",
       "  <thead>\n",
       "    <tr style=\"text-align: right;\">\n",
       "      <th></th>\n",
       "      <th>Year</th>\n",
       "      <th>Engine_Size</th>\n",
       "      <th>Mileage</th>\n",
       "      <th>Doors</th>\n",
       "      <th>Owner_Count</th>\n",
       "      <th>Price</th>\n",
       "    </tr>\n",
       "  </thead>\n",
       "  <tbody>\n",
       "    <tr>\n",
       "      <th>count</th>\n",
       "      <td>10000.000000</td>\n",
       "      <td>10000.000000</td>\n",
       "      <td>10000.000000</td>\n",
       "      <td>10000.000000</td>\n",
       "      <td>10000.000000</td>\n",
       "      <td>10000.00000</td>\n",
       "    </tr>\n",
       "    <tr>\n",
       "      <th>mean</th>\n",
       "      <td>2011.543700</td>\n",
       "      <td>3.000560</td>\n",
       "      <td>149239.111800</td>\n",
       "      <td>3.497100</td>\n",
       "      <td>2.991100</td>\n",
       "      <td>8852.96440</td>\n",
       "    </tr>\n",
       "    <tr>\n",
       "      <th>std</th>\n",
       "      <td>6.897699</td>\n",
       "      <td>1.149324</td>\n",
       "      <td>86322.348957</td>\n",
       "      <td>1.110097</td>\n",
       "      <td>1.422682</td>\n",
       "      <td>3112.59681</td>\n",
       "    </tr>\n",
       "    <tr>\n",
       "      <th>min</th>\n",
       "      <td>2000.000000</td>\n",
       "      <td>1.000000</td>\n",
       "      <td>25.000000</td>\n",
       "      <td>2.000000</td>\n",
       "      <td>1.000000</td>\n",
       "      <td>2000.00000</td>\n",
       "    </tr>\n",
       "    <tr>\n",
       "      <th>25%</th>\n",
       "      <td>2006.000000</td>\n",
       "      <td>2.000000</td>\n",
       "      <td>74649.250000</td>\n",
       "      <td>3.000000</td>\n",
       "      <td>2.000000</td>\n",
       "      <td>6646.00000</td>\n",
       "    </tr>\n",
       "    <tr>\n",
       "      <th>50%</th>\n",
       "      <td>2012.000000</td>\n",
       "      <td>3.000000</td>\n",
       "      <td>149587.000000</td>\n",
       "      <td>3.000000</td>\n",
       "      <td>3.000000</td>\n",
       "      <td>8858.50000</td>\n",
       "    </tr>\n",
       "    <tr>\n",
       "      <th>75%</th>\n",
       "      <td>2017.000000</td>\n",
       "      <td>4.000000</td>\n",
       "      <td>223577.500000</td>\n",
       "      <td>4.000000</td>\n",
       "      <td>4.000000</td>\n",
       "      <td>11086.50000</td>\n",
       "    </tr>\n",
       "    <tr>\n",
       "      <th>max</th>\n",
       "      <td>2023.000000</td>\n",
       "      <td>5.000000</td>\n",
       "      <td>299947.000000</td>\n",
       "      <td>5.000000</td>\n",
       "      <td>5.000000</td>\n",
       "      <td>18301.00000</td>\n",
       "    </tr>\n",
       "  </tbody>\n",
       "</table>\n",
       "</div>"
      ],
      "text/plain": [
       "               Year   Engine_Size        Mileage         Doors   Owner_Count  \\\n",
       "count  10000.000000  10000.000000   10000.000000  10000.000000  10000.000000   \n",
       "mean    2011.543700      3.000560  149239.111800      3.497100      2.991100   \n",
       "std        6.897699      1.149324   86322.348957      1.110097      1.422682   \n",
       "min     2000.000000      1.000000      25.000000      2.000000      1.000000   \n",
       "25%     2006.000000      2.000000   74649.250000      3.000000      2.000000   \n",
       "50%     2012.000000      3.000000  149587.000000      3.000000      3.000000   \n",
       "75%     2017.000000      4.000000  223577.500000      4.000000      4.000000   \n",
       "max     2023.000000      5.000000  299947.000000      5.000000      5.000000   \n",
       "\n",
       "             Price  \n",
       "count  10000.00000  \n",
       "mean    8852.96440  \n",
       "std     3112.59681  \n",
       "min     2000.00000  \n",
       "25%     6646.00000  \n",
       "50%     8858.50000  \n",
       "75%    11086.50000  \n",
       "max    18301.00000  "
      ]
     },
     "execution_count": 4,
     "metadata": {},
     "output_type": "execute_result"
    }
   ],
   "source": [
    "data.describe()"
   ]
  },
  {
   "cell_type": "code",
   "execution_count": 5,
   "id": "ca43ea08",
   "metadata": {
    "execution": {
     "iopub.execute_input": "2025-02-09T00:33:08.057201Z",
     "iopub.status.busy": "2025-02-09T00:33:08.056874Z",
     "iopub.status.idle": "2025-02-09T00:33:08.062232Z",
     "shell.execute_reply": "2025-02-09T00:33:08.061310Z"
    },
    "papermill": {
     "duration": 0.013065,
     "end_time": "2025-02-09T00:33:08.063677",
     "exception": false,
     "start_time": "2025-02-09T00:33:08.050612",
     "status": "completed"
    },
    "tags": []
   },
   "outputs": [
    {
     "data": {
      "text/plain": [
       "Index(['Brand', 'Model', 'Year', 'Engine_Size', 'Fuel_Type', 'Transmission',\n",
       "       'Mileage', 'Doors', 'Owner_Count', 'Price'],\n",
       "      dtype='object')"
      ]
     },
     "execution_count": 5,
     "metadata": {},
     "output_type": "execute_result"
    }
   ],
   "source": [
    "data.columns"
   ]
  },
  {
   "cell_type": "code",
   "execution_count": 6,
   "id": "7357fd3a",
   "metadata": {
    "execution": {
     "iopub.execute_input": "2025-02-09T00:33:08.076305Z",
     "iopub.status.busy": "2025-02-09T00:33:08.075985Z",
     "iopub.status.idle": "2025-02-09T00:33:08.097432Z",
     "shell.execute_reply": "2025-02-09T00:33:08.096250Z"
    },
    "papermill": {
     "duration": 0.029533,
     "end_time": "2025-02-09T00:33:08.099033",
     "exception": false,
     "start_time": "2025-02-09T00:33:08.069500",
     "status": "completed"
    },
    "tags": []
   },
   "outputs": [
    {
     "name": "stdout",
     "output_type": "stream",
     "text": [
      "<class 'pandas.core.frame.DataFrame'>\n",
      "RangeIndex: 10000 entries, 0 to 9999\n",
      "Data columns (total 10 columns):\n",
      " #   Column        Non-Null Count  Dtype  \n",
      "---  ------        --------------  -----  \n",
      " 0   Brand         10000 non-null  object \n",
      " 1   Model         10000 non-null  object \n",
      " 2   Year          10000 non-null  int64  \n",
      " 3   Engine_Size   10000 non-null  float64\n",
      " 4   Fuel_Type     10000 non-null  object \n",
      " 5   Transmission  10000 non-null  object \n",
      " 6   Mileage       10000 non-null  int64  \n",
      " 7   Doors         10000 non-null  int64  \n",
      " 8   Owner_Count   10000 non-null  int64  \n",
      " 9   Price         10000 non-null  int64  \n",
      "dtypes: float64(1), int64(5), object(4)\n",
      "memory usage: 781.4+ KB\n"
     ]
    }
   ],
   "source": [
    "data.info()"
   ]
  },
  {
   "cell_type": "code",
   "execution_count": 7,
   "id": "6defe556",
   "metadata": {
    "execution": {
     "iopub.execute_input": "2025-02-09T00:33:08.111919Z",
     "iopub.status.busy": "2025-02-09T00:33:08.111597Z",
     "iopub.status.idle": "2025-02-09T00:33:08.118048Z",
     "shell.execute_reply": "2025-02-09T00:33:08.117110Z"
    },
    "papermill": {
     "duration": 0.014639,
     "end_time": "2025-02-09T00:33:08.119605",
     "exception": false,
     "start_time": "2025-02-09T00:33:08.104966",
     "status": "completed"
    },
    "tags": []
   },
   "outputs": [
    {
     "data": {
      "text/plain": [
       "Brand            object\n",
       "Model            object\n",
       "Year              int64\n",
       "Engine_Size     float64\n",
       "Fuel_Type        object\n",
       "Transmission     object\n",
       "Mileage           int64\n",
       "Doors             int64\n",
       "Owner_Count       int64\n",
       "Price             int64\n",
       "dtype: object"
      ]
     },
     "execution_count": 7,
     "metadata": {},
     "output_type": "execute_result"
    }
   ],
   "source": [
    "data.dtypes"
   ]
  },
  {
   "cell_type": "markdown",
   "id": "d4599914",
   "metadata": {
    "papermill": {
     "duration": 0.00547,
     "end_time": "2025-02-09T00:33:08.131048",
     "exception": false,
     "start_time": "2025-02-09T00:33:08.125578",
     "status": "completed"
    },
    "tags": []
   },
   "source": [
    "<h3 style=\"background-color: pink; border: 2px solid black; color: black; display: inline-block; padding: 10px; text-align: left; margin: 0;\">\n",
    "  EDA \n",
    "</h3>\n"
   ]
  },
  {
   "cell_type": "code",
   "execution_count": 8,
   "id": "93c8b90c",
   "metadata": {
    "execution": {
     "iopub.execute_input": "2025-02-09T00:33:08.143721Z",
     "iopub.status.busy": "2025-02-09T00:33:08.143361Z",
     "iopub.status.idle": "2025-02-09T00:33:08.150715Z",
     "shell.execute_reply": "2025-02-09T00:33:08.149780Z"
    },
    "papermill": {
     "duration": 0.01554,
     "end_time": "2025-02-09T00:33:08.152290",
     "exception": false,
     "start_time": "2025-02-09T00:33:08.136750",
     "status": "completed"
    },
    "tags": []
   },
   "outputs": [
    {
     "data": {
      "text/plain": [
       "array([5, 3, 2, 1, 4])"
      ]
     },
     "execution_count": 8,
     "metadata": {},
     "output_type": "execute_result"
    }
   ],
   "source": [
    "data['Owner_Count'].unique()"
   ]
  },
  {
   "cell_type": "code",
   "execution_count": 9,
   "id": "090af5db",
   "metadata": {
    "execution": {
     "iopub.execute_input": "2025-02-09T00:33:08.165515Z",
     "iopub.status.busy": "2025-02-09T00:33:08.165125Z",
     "iopub.status.idle": "2025-02-09T00:33:08.171281Z",
     "shell.execute_reply": "2025-02-09T00:33:08.170353Z"
    },
    "papermill": {
     "duration": 0.014498,
     "end_time": "2025-02-09T00:33:08.172954",
     "exception": false,
     "start_time": "2025-02-09T00:33:08.158456",
     "status": "completed"
    },
    "tags": []
   },
   "outputs": [
    {
     "data": {
      "text/plain": [
       "array(['Manual', 'Automatic', 'Semi-Automatic'], dtype=object)"
      ]
     },
     "execution_count": 9,
     "metadata": {},
     "output_type": "execute_result"
    }
   ],
   "source": [
    "data['Transmission'].unique()"
   ]
  },
  {
   "cell_type": "code",
   "execution_count": 10,
   "id": "ff98d214",
   "metadata": {
    "execution": {
     "iopub.execute_input": "2025-02-09T00:33:08.186189Z",
     "iopub.status.busy": "2025-02-09T00:33:08.185859Z",
     "iopub.status.idle": "2025-02-09T00:33:08.191756Z",
     "shell.execute_reply": "2025-02-09T00:33:08.190815Z"
    },
    "papermill": {
     "duration": 0.014252,
     "end_time": "2025-02-09T00:33:08.193353",
     "exception": false,
     "start_time": "2025-02-09T00:33:08.179101",
     "status": "completed"
    },
    "tags": []
   },
   "outputs": [
    {
     "data": {
      "text/plain": [
       "array([3, 2, 4, 5])"
      ]
     },
     "execution_count": 10,
     "metadata": {},
     "output_type": "execute_result"
    }
   ],
   "source": [
    "data['Doors'].unique()"
   ]
  },
  {
   "cell_type": "code",
   "execution_count": 11,
   "id": "72b0cf88",
   "metadata": {
    "execution": {
     "iopub.execute_input": "2025-02-09T00:33:08.207238Z",
     "iopub.status.busy": "2025-02-09T00:33:08.206908Z",
     "iopub.status.idle": "2025-02-09T00:33:08.213044Z",
     "shell.execute_reply": "2025-02-09T00:33:08.212141Z"
    },
    "papermill": {
     "duration": 0.014783,
     "end_time": "2025-02-09T00:33:08.214639",
     "exception": false,
     "start_time": "2025-02-09T00:33:08.199856",
     "status": "completed"
    },
    "tags": []
   },
   "outputs": [
    {
     "data": {
      "text/plain": [
       "array(['Diesel', 'Hybrid', 'Electric', 'Petrol'], dtype=object)"
      ]
     },
     "execution_count": 11,
     "metadata": {},
     "output_type": "execute_result"
    }
   ],
   "source": [
    "data['Fuel_Type'].unique()"
   ]
  },
  {
   "cell_type": "code",
   "execution_count": 12,
   "id": "3cfef83e",
   "metadata": {
    "execution": {
     "iopub.execute_input": "2025-02-09T00:33:08.229340Z",
     "iopub.status.busy": "2025-02-09T00:33:08.228996Z",
     "iopub.status.idle": "2025-02-09T00:33:08.235554Z",
     "shell.execute_reply": "2025-02-09T00:33:08.234493Z"
    },
    "papermill": {
     "duration": 0.015566,
     "end_time": "2025-02-09T00:33:08.237210",
     "exception": false,
     "start_time": "2025-02-09T00:33:08.221644",
     "status": "completed"
    },
    "tags": []
   },
   "outputs": [
    {
     "data": {
      "text/plain": [
       "array(['Rio', 'Malibu', 'GLA', 'Q5', 'Golf', 'Camry', 'Civic', 'Sportage',\n",
       "       'RAV4', '5 Series', 'CR-V', 'Elantra', 'Tiguan', 'Equinox',\n",
       "       'Explorer', 'A3', '3 Series', 'Tucson', 'Passat', 'Impala',\n",
       "       'Corolla', 'Optima', 'Fiesta', 'A4', 'Focus', 'E-Class', 'Sonata',\n",
       "       'C-Class', 'X5', 'Accord'], dtype=object)"
      ]
     },
     "execution_count": 12,
     "metadata": {},
     "output_type": "execute_result"
    }
   ],
   "source": [
    "data['Model'].unique()"
   ]
  },
  {
   "cell_type": "code",
   "execution_count": 13,
   "id": "e3f411dc",
   "metadata": {
    "execution": {
     "iopub.execute_input": "2025-02-09T00:33:08.251632Z",
     "iopub.status.busy": "2025-02-09T00:33:08.251236Z",
     "iopub.status.idle": "2025-02-09T00:33:08.261083Z",
     "shell.execute_reply": "2025-02-09T00:33:08.260073Z"
    },
    "papermill": {
     "duration": 0.01858,
     "end_time": "2025-02-09T00:33:08.262629",
     "exception": false,
     "start_time": "2025-02-09T00:33:08.244049",
     "status": "completed"
    },
    "tags": []
   },
   "outputs": [
    {
     "data": {
      "text/plain": [
       "Brand           0\n",
       "Model           0\n",
       "Year            0\n",
       "Engine_Size     0\n",
       "Fuel_Type       0\n",
       "Transmission    0\n",
       "Mileage         0\n",
       "Doors           0\n",
       "Owner_Count     0\n",
       "Price           0\n",
       "dtype: int64"
      ]
     },
     "execution_count": 13,
     "metadata": {},
     "output_type": "execute_result"
    }
   ],
   "source": [
    "data.isnull().sum()"
   ]
  },
  {
   "cell_type": "code",
   "execution_count": 14,
   "id": "a47aec18",
   "metadata": {
    "execution": {
     "iopub.execute_input": "2025-02-09T00:33:08.277145Z",
     "iopub.status.busy": "2025-02-09T00:33:08.276754Z",
     "iopub.status.idle": "2025-02-09T00:33:08.288383Z",
     "shell.execute_reply": "2025-02-09T00:33:08.287469Z"
    },
    "papermill": {
     "duration": 0.020888,
     "end_time": "2025-02-09T00:33:08.290084",
     "exception": false,
     "start_time": "2025-02-09T00:33:08.269196",
     "status": "completed"
    },
    "tags": []
   },
   "outputs": [
    {
     "data": {
      "text/plain": [
       "0"
      ]
     },
     "execution_count": 14,
     "metadata": {},
     "output_type": "execute_result"
    }
   ],
   "source": [
    "data.duplicated().sum()"
   ]
  },
  {
   "cell_type": "code",
   "execution_count": 15,
   "id": "7fd217d6",
   "metadata": {
    "execution": {
     "iopub.execute_input": "2025-02-09T00:33:08.304826Z",
     "iopub.status.busy": "2025-02-09T00:33:08.304480Z",
     "iopub.status.idle": "2025-02-09T00:33:08.318922Z",
     "shell.execute_reply": "2025-02-09T00:33:08.317973Z"
    },
    "papermill": {
     "duration": 0.023585,
     "end_time": "2025-02-09T00:33:08.320543",
     "exception": false,
     "start_time": "2025-02-09T00:33:08.296958",
     "status": "completed"
    },
    "tags": []
   },
   "outputs": [
    {
     "data": {
      "text/html": [
       "<div>\n",
       "<style scoped>\n",
       "    .dataframe tbody tr th:only-of-type {\n",
       "        vertical-align: middle;\n",
       "    }\n",
       "\n",
       "    .dataframe tbody tr th {\n",
       "        vertical-align: top;\n",
       "    }\n",
       "\n",
       "    .dataframe thead th {\n",
       "        text-align: right;\n",
       "    }\n",
       "</style>\n",
       "<table border=\"1\" class=\"dataframe\">\n",
       "  <thead>\n",
       "    <tr style=\"text-align: right;\">\n",
       "      <th></th>\n",
       "      <th>Brand</th>\n",
       "      <th>Model</th>\n",
       "      <th>Year</th>\n",
       "      <th>Engine_Size</th>\n",
       "      <th>Fuel_Type</th>\n",
       "      <th>Transmission</th>\n",
       "      <th>Mileage</th>\n",
       "      <th>Doors</th>\n",
       "      <th>Owner_Count</th>\n",
       "      <th>Price</th>\n",
       "    </tr>\n",
       "  </thead>\n",
       "  <tbody>\n",
       "    <tr>\n",
       "      <th>0</th>\n",
       "      <td>Kia</td>\n",
       "      <td>Rio</td>\n",
       "      <td>2020</td>\n",
       "      <td>4.2</td>\n",
       "      <td>Diesel</td>\n",
       "      <td>Manual</td>\n",
       "      <td>289944</td>\n",
       "      <td>3</td>\n",
       "      <td>5</td>\n",
       "      <td>8501</td>\n",
       "    </tr>\n",
       "    <tr>\n",
       "      <th>1</th>\n",
       "      <td>Chevrolet</td>\n",
       "      <td>Malibu</td>\n",
       "      <td>2012</td>\n",
       "      <td>2.0</td>\n",
       "      <td>Hybrid</td>\n",
       "      <td>Automatic</td>\n",
       "      <td>5356</td>\n",
       "      <td>2</td>\n",
       "      <td>3</td>\n",
       "      <td>12092</td>\n",
       "    </tr>\n",
       "    <tr>\n",
       "      <th>2</th>\n",
       "      <td>Mercedes</td>\n",
       "      <td>GLA</td>\n",
       "      <td>2020</td>\n",
       "      <td>4.2</td>\n",
       "      <td>Diesel</td>\n",
       "      <td>Automatic</td>\n",
       "      <td>231440</td>\n",
       "      <td>4</td>\n",
       "      <td>2</td>\n",
       "      <td>11171</td>\n",
       "    </tr>\n",
       "    <tr>\n",
       "      <th>3</th>\n",
       "      <td>Audi</td>\n",
       "      <td>Q5</td>\n",
       "      <td>2023</td>\n",
       "      <td>2.0</td>\n",
       "      <td>Electric</td>\n",
       "      <td>Manual</td>\n",
       "      <td>160971</td>\n",
       "      <td>2</td>\n",
       "      <td>1</td>\n",
       "      <td>11780</td>\n",
       "    </tr>\n",
       "    <tr>\n",
       "      <th>4</th>\n",
       "      <td>Volkswagen</td>\n",
       "      <td>Golf</td>\n",
       "      <td>2003</td>\n",
       "      <td>2.6</td>\n",
       "      <td>Hybrid</td>\n",
       "      <td>Semi-Automatic</td>\n",
       "      <td>286618</td>\n",
       "      <td>3</td>\n",
       "      <td>3</td>\n",
       "      <td>2867</td>\n",
       "    </tr>\n",
       "    <tr>\n",
       "      <th>...</th>\n",
       "      <td>...</td>\n",
       "      <td>...</td>\n",
       "      <td>...</td>\n",
       "      <td>...</td>\n",
       "      <td>...</td>\n",
       "      <td>...</td>\n",
       "      <td>...</td>\n",
       "      <td>...</td>\n",
       "      <td>...</td>\n",
       "      <td>...</td>\n",
       "    </tr>\n",
       "    <tr>\n",
       "      <th>9995</th>\n",
       "      <td>Kia</td>\n",
       "      <td>Optima</td>\n",
       "      <td>2004</td>\n",
       "      <td>3.7</td>\n",
       "      <td>Diesel</td>\n",
       "      <td>Semi-Automatic</td>\n",
       "      <td>5794</td>\n",
       "      <td>2</td>\n",
       "      <td>4</td>\n",
       "      <td>8884</td>\n",
       "    </tr>\n",
       "    <tr>\n",
       "      <th>9996</th>\n",
       "      <td>Chevrolet</td>\n",
       "      <td>Impala</td>\n",
       "      <td>2002</td>\n",
       "      <td>1.4</td>\n",
       "      <td>Electric</td>\n",
       "      <td>Automatic</td>\n",
       "      <td>168000</td>\n",
       "      <td>2</td>\n",
       "      <td>1</td>\n",
       "      <td>6240</td>\n",
       "    </tr>\n",
       "    <tr>\n",
       "      <th>9997</th>\n",
       "      <td>BMW</td>\n",
       "      <td>3 Series</td>\n",
       "      <td>2010</td>\n",
       "      <td>3.0</td>\n",
       "      <td>Petrol</td>\n",
       "      <td>Automatic</td>\n",
       "      <td>86664</td>\n",
       "      <td>5</td>\n",
       "      <td>1</td>\n",
       "      <td>9866</td>\n",
       "    </tr>\n",
       "    <tr>\n",
       "      <th>9998</th>\n",
       "      <td>Ford</td>\n",
       "      <td>Explorer</td>\n",
       "      <td>2002</td>\n",
       "      <td>1.4</td>\n",
       "      <td>Hybrid</td>\n",
       "      <td>Automatic</td>\n",
       "      <td>225772</td>\n",
       "      <td>4</td>\n",
       "      <td>1</td>\n",
       "      <td>4084</td>\n",
       "    </tr>\n",
       "    <tr>\n",
       "      <th>9999</th>\n",
       "      <td>Volkswagen</td>\n",
       "      <td>Tiguan</td>\n",
       "      <td>2001</td>\n",
       "      <td>2.1</td>\n",
       "      <td>Diesel</td>\n",
       "      <td>Manual</td>\n",
       "      <td>157882</td>\n",
       "      <td>3</td>\n",
       "      <td>3</td>\n",
       "      <td>3342</td>\n",
       "    </tr>\n",
       "  </tbody>\n",
       "</table>\n",
       "<p>10000 rows × 10 columns</p>\n",
       "</div>"
      ],
      "text/plain": [
       "           Brand     Model  Year  Engine_Size Fuel_Type    Transmission  \\\n",
       "0            Kia       Rio  2020          4.2    Diesel          Manual   \n",
       "1      Chevrolet    Malibu  2012          2.0    Hybrid       Automatic   \n",
       "2       Mercedes       GLA  2020          4.2    Diesel       Automatic   \n",
       "3           Audi        Q5  2023          2.0  Electric          Manual   \n",
       "4     Volkswagen      Golf  2003          2.6    Hybrid  Semi-Automatic   \n",
       "...          ...       ...   ...          ...       ...             ...   \n",
       "9995         Kia    Optima  2004          3.7    Diesel  Semi-Automatic   \n",
       "9996   Chevrolet    Impala  2002          1.4  Electric       Automatic   \n",
       "9997         BMW  3 Series  2010          3.0    Petrol       Automatic   \n",
       "9998        Ford  Explorer  2002          1.4    Hybrid       Automatic   \n",
       "9999  Volkswagen    Tiguan  2001          2.1    Diesel          Manual   \n",
       "\n",
       "      Mileage  Doors  Owner_Count  Price  \n",
       "0      289944      3            5   8501  \n",
       "1        5356      2            3  12092  \n",
       "2      231440      4            2  11171  \n",
       "3      160971      2            1  11780  \n",
       "4      286618      3            3   2867  \n",
       "...       ...    ...          ...    ...  \n",
       "9995     5794      2            4   8884  \n",
       "9996   168000      2            1   6240  \n",
       "9997    86664      5            1   9866  \n",
       "9998   225772      4            1   4084  \n",
       "9999   157882      3            3   3342  \n",
       "\n",
       "[10000 rows x 10 columns]"
      ]
     },
     "execution_count": 15,
     "metadata": {},
     "output_type": "execute_result"
    }
   ],
   "source": [
    "data"
   ]
  },
  {
   "cell_type": "code",
   "execution_count": 16,
   "id": "1da3676a",
   "metadata": {
    "execution": {
     "iopub.execute_input": "2025-02-09T00:33:08.335314Z",
     "iopub.status.busy": "2025-02-09T00:33:08.334965Z",
     "iopub.status.idle": "2025-02-09T00:33:08.555826Z",
     "shell.execute_reply": "2025-02-09T00:33:08.554820Z"
    },
    "papermill": {
     "duration": 0.230374,
     "end_time": "2025-02-09T00:33:08.557880",
     "exception": false,
     "start_time": "2025-02-09T00:33:08.327506",
     "status": "completed"
    },
    "tags": []
   },
   "outputs": [
    {
     "data": {
      "text/plain": [
       "<Axes: xlabel='Mileage'>"
      ]
     },
     "execution_count": 16,
     "metadata": {},
     "output_type": "execute_result"
    },
    {
     "data": {
      "image/png": "[encoded data removed]",
      "text/plain": [
       "<Figure size 640x480 with 1 Axes>"
      ]
     },
     "metadata": {},
     "output_type": "display_data"
    }
   ],
   "source": [
    "sns.boxplot(x='Mileage',data=data)"
   ]
  },
  {
   "cell_type": "code",
   "execution_count": 17,
   "id": "d7a16dc6",
   "metadata": {
    "execution": {
     "iopub.execute_input": "2025-02-09T00:33:08.573378Z",
     "iopub.status.busy": "2025-02-09T00:33:08.573040Z",
     "iopub.status.idle": "2025-02-09T00:33:08.714840Z",
     "shell.execute_reply": "2025-02-09T00:33:08.713851Z"
    },
    "papermill": {
     "duration": 0.151259,
     "end_time": "2025-02-09T00:33:08.716331",
     "exception": false,
     "start_time": "2025-02-09T00:33:08.565072",
     "status": "completed"
    },
    "tags": []
   },
   "outputs": [
    {
     "data": {
      "text/plain": [
       "<Axes: xlabel='Price'>"
      ]
     },
     "execution_count": 17,
     "metadata": {},
     "output_type": "execute_result"
    },
    {
     "data": {
      "image/png": "[encoded data removed]",
      "text/plain": [
       "<Figure size 640x480 with 1 Axes>"
      ]
     },
     "metadata": {},
     "output_type": "display_data"
    }
   ],
   "source": [
    "sns.boxplot(x='Price',data=data)"
   ]
  },
  {
   "cell_type": "markdown",
   "id": "bd86a6c7",
   "metadata": {
    "papermill": {
     "duration": 0.006977,
     "end_time": "2025-02-09T00:33:08.730839",
     "exception": false,
     "start_time": "2025-02-09T00:33:08.723862",
     "status": "completed"
    },
    "tags": []
   },
   "source": [
    "<h3 style=\"background-color: black; border: 2px solid black; color: white; display: inline-block; padding: 10px; text-align: left; margin: 0;\">\n",
    "  Observation: Car Price Outliers\n",
    "</h3>\n",
    "<p>\n",
    "  It is a normal observation that there are price outliers in the car dataset. Some cars are priced significantly higher than others, which indicates the presence of very expensive car models. These outliers could be due to factors such as brand, model, features, and rarity of the vehicle.\n",
    "</p>\n"
   ]
  },
  {
   "cell_type": "markdown",
   "id": "d2dcee08",
   "metadata": {
    "papermill": {
     "duration": 0.006966,
     "end_time": "2025-02-09T00:33:08.745112",
     "exception": false,
     "start_time": "2025-02-09T00:33:08.738146",
     "status": "completed"
    },
    "tags": []
   },
   "source": [
    "<h3 style=\"background-color: pink; border: 2px solid black; color: black; display: inline-block; padding: 10px; text-align: left; margin: 0;\">\n",
    "  Data Visualization\n",
    "</h3>\n"
   ]
  },
  {
   "cell_type": "code",
   "execution_count": 18,
   "id": "55a08f19",
   "metadata": {
    "execution": {
     "iopub.execute_input": "2025-02-09T00:33:08.761023Z",
     "iopub.status.busy": "2025-02-09T00:33:08.760679Z",
     "iopub.status.idle": "2025-02-09T00:33:08.934284Z",
     "shell.execute_reply": "2025-02-09T00:33:08.933234Z"
    },
    "papermill": {
     "duration": 0.183699,
     "end_time": "2025-02-09T00:33:08.936033",
     "exception": false,
     "start_time": "2025-02-09T00:33:08.752334",
     "status": "completed"
    },
    "tags": []
   },
   "outputs": [
    {
     "data": {
      "text/plain": [
       "<Axes: ylabel='count'>"
      ]
     },
     "execution_count": 18,
     "metadata": {},
     "output_type": "execute_result"
    },
    {
     "data": {
      "image/png": "[encoded data removed]",
      "text/plain": [
       "<Figure size 640x480 with 1 Axes>"
      ]
     },
     "metadata": {},
     "output_type": "display_data"
    }
   ],
   "source": [
    "data['Doors'].value_counts().plot.pie(autopct='%.2f%%')"
   ]
  },
  {
   "cell_type": "code",
   "execution_count": 19,
   "id": "3922ea87",
   "metadata": {
    "execution": {
     "iopub.execute_input": "2025-02-09T00:33:08.953813Z",
     "iopub.status.busy": "2025-02-09T00:33:08.953368Z",
     "iopub.status.idle": "2025-02-09T00:33:09.072985Z",
     "shell.execute_reply": "2025-02-09T00:33:09.071991Z"
    },
    "papermill": {
     "duration": 0.130337,
     "end_time": "2025-02-09T00:33:09.074694",
     "exception": false,
     "start_time": "2025-02-09T00:33:08.944357",
     "status": "completed"
    },
    "tags": []
   },
   "outputs": [
    {
     "data": {
      "text/plain": [
       "<Axes: ylabel='count'>"
      ]
     },
     "execution_count": 19,
     "metadata": {},
     "output_type": "execute_result"
    },
    {
     "data": {
      "image/png": "[encoded data removed]",
      "text/plain": [
       "<Figure size 640x480 with 1 Axes>"
      ]
     },
     "metadata": {},
     "output_type": "display_data"
    }
   ],
   "source": [
    "data['Owner_Count'].value_counts().plot.pie(autopct='%.2f%%')"
   ]
  },
  {
   "cell_type": "code",
   "execution_count": 20,
   "id": "f9902d68",
   "metadata": {
    "execution": {
     "iopub.execute_input": "2025-02-09T00:33:09.092889Z",
     "iopub.status.busy": "2025-02-09T00:33:09.092560Z",
     "iopub.status.idle": "2025-02-09T00:33:09.440756Z",
     "shell.execute_reply": "2025-02-09T00:33:09.439741Z"
    },
    "papermill": {
     "duration": 0.3593,
     "end_time": "2025-02-09T00:33:09.442683",
     "exception": false,
     "start_time": "2025-02-09T00:33:09.083383",
     "status": "completed"
    },
    "tags": []
   },
   "outputs": [
    {
     "data": {
      "image/png": "[encoded data removed]",
      "text/plain": [
       "<Figure size 640x480 with 1 Axes>"
      ]
     },
     "metadata": {},
     "output_type": "display_data"
    }
   ],
   "source": [
    "sns.countplot(x='Model', data=data, palette='Set2')\n",
    "plt.title('Car Model Count')\n",
    "plt.xlabel('Car Model')\n",
    "plt.ylabel('Count')\n",
    "plt.xticks(rotation=90)\n",
    "plt.show()"
   ]
  },
  {
   "cell_type": "code",
   "execution_count": 21,
   "id": "a4056fcc",
   "metadata": {
    "execution": {
     "iopub.execute_input": "2025-02-09T00:33:09.463857Z",
     "iopub.status.busy": "2025-02-09T00:33:09.463514Z",
     "iopub.status.idle": "2025-02-09T00:33:10.349361Z",
     "shell.execute_reply": "2025-02-09T00:33:10.348024Z"
    },
    "papermill": {
     "duration": 0.898986,
     "end_time": "2025-02-09T00:33:10.351803",
     "exception": false,
     "start_time": "2025-02-09T00:33:09.452817",
     "status": "completed"
    },
    "tags": []
   },
   "outputs": [
    {
     "data": {
      "image/png": "[encoded data removed]",
      "text/plain": [
       "<Figure size 640x480 with 1 Axes>"
      ]
     },
     "metadata": {},
     "output_type": "display_data"
    }
   ],
   "source": [
    "sns.violinplot(x='Model', y='Price', data=data, palette='viridis')\n",
    "plt.title('Price Distribution by Car Model')\n",
    "plt.xlabel('Model')\n",
    "plt.ylabel('Price')\n",
    "plt.xticks(rotation=90)\n",
    "plt.show()"
   ]
  }
 ],
 "metadata": {
  "kaggle": {
   "accelerator": "none",
   "dataSources": [
    {
     "datasetId": 6552734,
     "sourceId": 10587923,
     "sourceType": "datasetVersion"
    }
   ],
   "dockerImageVersionId": 30886,
   "isGpuEnabled": false,
   "isInternetEnabled": true,
   "language": "python",
   "sourceType": "notebook"
  },
  "kernelspec": {
   "display_name": "Python 3",
   "language": "python",
   "name": "python3"
  },
  "language_info": {
   "codemirror_mode": {
    "name": "ipython",
    "version": 3
   },
   "file_extension": ".py",
   "mimetype": "text/x-python",
   "name": "python",
   "nbconvert_exporter": "python",
   "pygments_lexer": "ipython3",
   "version": "3.10.12"
  },
  "papermill": {
   "default_parameters": {},
   "duration": 8.332786,
   "end_time": "2025-02-09T00:33:11.084558",
   "environment_variables": {},
   "exception": null,
   "input_path": "__notebook__.ipynb",
   "output_path": "__notebook__.ipynb",
   "parameters": {},
   "start_time": "2025-02-09T00:33:02.751772",
   "version": "2.6.0"
  }
 },
 "nbformat": 4,
 "nbformat_minor": 5
}
